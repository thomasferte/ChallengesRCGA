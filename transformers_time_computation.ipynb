{
 "cells": [
  {
   "cell_type": "code",
   "execution_count": 1,
   "id": "73d62259-cd95-4ece-b95c-9f0ae81de8d6",
   "metadata": {},
   "outputs": [],
   "source": [
    "!pip install -q datasets\n",
    "\n",
    "!pip install -q evaluate\n",
    "\n",
    "!pip install -q accelerate\n",
    "\n",
    "!pip install -q gluonts ujson"
   ]
  },
  {
   "cell_type": "code",
   "execution_count": 1,
   "id": "adba64fb-aaca-495d-beb9-c059a9bd4869",
   "metadata": {},
   "outputs": [
    {
     "name": "stderr",
     "output_type": "stream",
     "text": [
      "/home/tf1/.local/lib/python3.8/site-packages/torch/cuda/__init__.py:611: UserWarning: Can't initialize NVML\n",
      "  warnings.warn(\"Can't initialize NVML\")\n"
     ]
    }
   ],
   "source": [
    "import os\n",
    "# os.chdir('/home/ddutartr/transformers/')\n",
    "os.chdir('/home/tf1/Documents/recherche/prediction_covid/high_dimension_reservoir/')\n",
    "from trans_utils import train_transformers\n",
    "import matplotlib.pyplot as plt\n",
    "import glob\n",
    "import pandas as pd\n",
    "from datetime import datetime,timedelta\n",
    "import time\n"
   ]
  },
  {
   "cell_type": "code",
   "execution_count": 2,
   "id": "a81a87fa-8014-4843-b95c-d01c2d4596ea",
   "metadata": {},
   "outputs": [
    {
     "name": "stdout",
     "output_type": "stream",
     "text": [
      "Requirement already satisfied: matplotlib in /home/ddutartr/miniconda3/envs/vllm/lib/python3.9/site-packages (3.8.2)\n",
      "Requirement already satisfied: contourpy>=1.0.1 in /home/ddutartr/miniconda3/envs/vllm/lib/python3.9/site-packages (from matplotlib) (1.2.0)\n",
      "Requirement already satisfied: cycler>=0.10 in /home/ddutartr/miniconda3/envs/vllm/lib/python3.9/site-packages (from matplotlib) (0.12.1)\n",
      "Requirement already satisfied: fonttools>=4.22.0 in /home/ddutartr/miniconda3/envs/vllm/lib/python3.9/site-packages (from matplotlib) (4.47.2)\n",
      "Requirement already satisfied: kiwisolver>=1.3.1 in /home/ddutartr/miniconda3/envs/vllm/lib/python3.9/site-packages (from matplotlib) (1.4.5)\n",
      "Requirement already satisfied: numpy<2,>=1.21 in /home/ddutartr/miniconda3/envs/vllm/lib/python3.9/site-packages (from matplotlib) (1.26.3)\n",
      "Requirement already satisfied: packaging>=20.0 in /home/ddutartr/miniconda3/envs/vllm/lib/python3.9/site-packages (from matplotlib) (23.2)\n",
      "Requirement already satisfied: pillow>=8 in /home/ddutartr/miniconda3/envs/vllm/lib/python3.9/site-packages (from matplotlib) (10.2.0)\n",
      "Requirement already satisfied: pyparsing>=2.3.1 in /home/ddutartr/miniconda3/envs/vllm/lib/python3.9/site-packages (from matplotlib) (3.1.1)\n",
      "Requirement already satisfied: python-dateutil>=2.7 in /home/ddutartr/miniconda3/envs/vllm/lib/python3.9/site-packages (from matplotlib) (2.8.2)\n",
      "Requirement already satisfied: importlib-resources>=3.2.0 in /home/ddutartr/miniconda3/envs/vllm/lib/python3.9/site-packages (from matplotlib) (6.1.1)\n",
      "Requirement already satisfied: zipp>=3.1.0 in /home/ddutartr/miniconda3/envs/vllm/lib/python3.9/site-packages (from importlib-resources>=3.2.0->matplotlib) (3.17.0)\n",
      "Requirement already satisfied: six>=1.5 in /home/ddutartr/miniconda3/envs/vllm/lib/python3.9/site-packages (from python-dateutil>=2.7->matplotlib) (1.16.0)\n"
     ]
    }
   ],
   "source": [
    "!pip install matplotlib"
   ]
  },
  {
   "cell_type": "code",
   "execution_count": 2,
   "id": "d6d6a9d0-a674-46ff-91d6-2570a354dd5f",
   "metadata": {},
   "outputs": [],
   "source": [
    "min_date_eval= '2021-03-01'\n",
    "# data_dir = './data'\n",
    "data_dir = 'data_obfuscated_time'\n",
    "forecast_days= 14\n",
    "files = pd.DataFrame(glob.glob(data_dir + '/*.csv'),columns = ['full_path'])\n",
    "files['file_name'] = files.full_path.str.split('/',n=3).str[-1]\n",
    "files['date'] = pd.to_datetime(files.file_name.str.split('.csv').str[0],format='%Y%m%d')\n",
    "files = files.sort_values(by='date').reset_index()\n",
    "min_date_eval = datetime.strptime(min_date_eval, '%Y-%m-%d') - timedelta(days=forecast_days)\n",
    "selected_files= files[files['date']<min_date_eval]\n",
    "selected_files= files[files['date']>=min_date_eval]\n",
    "\n",
    "diff_true =[]\n",
    "diff_pred =[]\n",
    "hosp_true =[]\n",
    "dates = selected_files.date.dt.strftime(\"%Y-%m-%d\").to_list()"
   ]
  },
  {
   "cell_type": "code",
   "execution_count": 3,
   "id": "d545efa5-9ea1-474e-9ff1-d532b687b2f0",
   "metadata": {},
   "outputs": [
    {
     "data": {
      "text/plain": [
       "['2021-11-18',\n",
       " '2021-11-20',\n",
       " '2021-11-22',\n",
       " '2021-11-24',\n",
       " '2021-11-26',\n",
       " '2021-11-28',\n",
       " '2021-11-30',\n",
       " '2021-12-02',\n",
       " '2021-12-04',\n",
       " '2021-12-06',\n",
       " '2021-12-08',\n",
       " '2021-12-10',\n",
       " '2021-12-12',\n",
       " '2021-12-14',\n",
       " '2021-12-16']"
      ]
     },
     "execution_count": 3,
     "metadata": {},
     "output_type": "execute_result"
    }
   ],
   "source": [
    "dates"
   ]
  },
  {
   "cell_type": "code",
   "execution_count": 5,
   "id": "3c041036-bd09-4fce-ad47-11c5e91de1d7",
   "metadata": {},
   "outputs": [
    {
     "name": "stdout",
     "output_type": "stream",
     "text": [
      "2021-11-18\n"
     ]
    },
    {
     "name": "stderr",
     "output_type": "stream",
     "text": [
      "/home/tf1/.local/lib/python3.8/site-packages/datasets/load.py:922: FutureWarning: The repository for esn_dataset contains custom code which must be executed to correctly load the dataset. You can inspect the repository content at esn_dataset.py\n",
      "You can avoid this message in future by passing the argument `trust_remote_code=True`.\n",
      "Passing `trust_remote_code=True` will be mandatory to load this dataset from the next major release of `datasets`.\n",
      "  warnings.warn(\n"
     ]
    },
    {
     "name": "stdout",
     "output_type": "stream",
     "text": [
      "We are at epoch: 41\n",
      "[18.49662208557129, 6.389913558959961, 11.647063255310059, 10.123578071594238, 5.813021659851074, 11.797889709472656, 14.189797401428223, 20.903348922729492, 26.655963897705078, 26.655963897705078, 26.655963897705078, 26.655963897705078, 26.655963897705078, 26.655963897705078, 26.655963897705078, 18.49662208557129]\n",
      "[1.6000297, -3.7763445, 1.3154093, 4.2749434, 9.524367, 2.7332296, 5.389622, 7.3213215, 11.512114, 8.354195, 6.3308697, 7.6688995, 2.7134538, 10.088972, 16.171803, 3.7836947]\n",
      "2021-11-20\n"
     ]
    },
    {
     "name": "stderr",
     "output_type": "stream",
     "text": [
      "/home/tf1/.local/lib/python3.8/site-packages/datasets/load.py:922: FutureWarning: The repository for esn_dataset contains custom code which must be executed to correctly load the dataset. You can inspect the repository content at esn_dataset.py\n",
      "You can avoid this message in future by passing the argument `trust_remote_code=True`.\n",
      "Passing `trust_remote_code=True` will be mandatory to load this dataset from the next major release of `datasets`.\n",
      "  warnings.warn(\n"
     ]
    },
    {
     "name": "stdout",
     "output_type": "stream",
     "text": [
      "[18.49662208557129, 6.389913558959961, 11.647063255310059, 10.123578071594238, 5.813021659851074, 11.797889709472656, 14.189797401428223, 20.903348922729492, 26.655963897705078, 26.655963897705078, 26.655963897705078, 26.655963897705078, 26.655963897705078, 26.655963897705078, 26.655963897705078, 18.49662208557129, 6.389913558959961]\n",
      "[1.6000297, -3.7763445, 1.3154093, 4.2749434, 9.524367, 2.7332296, 5.389622, 7.3213215, 11.512114, 8.354195, 6.3308697, 7.6688995, 2.7134538, 10.088972, 16.171803, 3.7836947, 12.726675]\n",
      "2021-11-22\n"
     ]
    },
    {
     "name": "stderr",
     "output_type": "stream",
     "text": [
      "/home/tf1/.local/lib/python3.8/site-packages/datasets/load.py:922: FutureWarning: The repository for esn_dataset contains custom code which must be executed to correctly load the dataset. You can inspect the repository content at esn_dataset.py\n",
      "You can avoid this message in future by passing the argument `trust_remote_code=True`.\n",
      "Passing `trust_remote_code=True` will be mandatory to load this dataset from the next major release of `datasets`.\n",
      "  warnings.warn(\n"
     ]
    },
    {
     "name": "stdout",
     "output_type": "stream",
     "text": [
      "We are at epoch: 37\n",
      "[18.49662208557129, 6.389913558959961, 11.647063255310059, 10.123578071594238, 5.813021659851074, 11.797889709472656, 14.189797401428223, 20.903348922729492, 26.655963897705078, 26.655963897705078, 26.655963897705078, 26.655963897705078, 26.655963897705078, 26.655963897705078, 26.655963897705078, 18.49662208557129, 6.389913558959961, 11.647063255310059]\n",
      "[1.6000297, -3.7763445, 1.3154093, 4.2749434, 9.524367, 2.7332296, 5.389622, 7.3213215, 11.512114, 8.354195, 6.3308697, 7.6688995, 2.7134538, 10.088972, 16.171803, 3.7836947, 12.726675, 2.548543]\n",
      "2021-11-24\n"
     ]
    },
    {
     "name": "stderr",
     "output_type": "stream",
     "text": [
      "/home/tf1/.local/lib/python3.8/site-packages/datasets/load.py:922: FutureWarning: The repository for esn_dataset contains custom code which must be executed to correctly load the dataset. You can inspect the repository content at esn_dataset.py\n",
      "You can avoid this message in future by passing the argument `trust_remote_code=True`.\n",
      "Passing `trust_remote_code=True` will be mandatory to load this dataset from the next major release of `datasets`.\n",
      "  warnings.warn(\n"
     ]
    },
    {
     "name": "stdout",
     "output_type": "stream",
     "text": [
      "We are at epoch: 43\n",
      "[18.49662208557129, 6.389913558959961, 11.647063255310059, 10.123578071594238, 5.813021659851074, 11.797889709472656, 14.189797401428223, 20.903348922729492, 26.655963897705078, 26.655963897705078, 26.655963897705078, 26.655963897705078, 26.655963897705078, 26.655963897705078, 26.655963897705078, 18.49662208557129, 6.389913558959961, 11.647063255310059, 10.123578071594238]\n",
      "[1.6000297, -3.7763445, 1.3154093, 4.2749434, 9.524367, 2.7332296, 5.389622, 7.3213215, 11.512114, 8.354195, 6.3308697, 7.6688995, 2.7134538, 10.088972, 16.171803, 3.7836947, 12.726675, 2.548543, -3.8182535]\n",
      "2021-11-26\n"
     ]
    },
    {
     "name": "stderr",
     "output_type": "stream",
     "text": [
      "/home/tf1/.local/lib/python3.8/site-packages/datasets/load.py:922: FutureWarning: The repository for esn_dataset contains custom code which must be executed to correctly load the dataset. You can inspect the repository content at esn_dataset.py\n",
      "You can avoid this message in future by passing the argument `trust_remote_code=True`.\n",
      "Passing `trust_remote_code=True` will be mandatory to load this dataset from the next major release of `datasets`.\n",
      "  warnings.warn(\n"
     ]
    },
    {
     "name": "stdout",
     "output_type": "stream",
     "text": [
      "We are at epoch: 90\n",
      "[18.49662208557129, 6.389913558959961, 11.647063255310059, 10.123578071594238, 5.813021659851074, 11.797889709472656, 14.189797401428223, 20.903348922729492, 26.655963897705078, 26.655963897705078, 26.655963897705078, 26.655963897705078, 26.655963897705078, 26.655963897705078, 26.655963897705078, 18.49662208557129, 6.389913558959961, 11.647063255310059, 10.123578071594238, 5.813021659851074]\n",
      "[1.6000297, -3.7763445, 1.3154093, 4.2749434, 9.524367, 2.7332296, 5.389622, 7.3213215, 11.512114, 8.354195, 6.3308697, 7.6688995, 2.7134538, 10.088972, 16.171803, 3.7836947, 12.726675, 2.548543, -3.8182535, 10.625499]\n",
      "2021-11-28\n"
     ]
    },
    {
     "name": "stderr",
     "output_type": "stream",
     "text": [
      "/home/tf1/.local/lib/python3.8/site-packages/datasets/load.py:922: FutureWarning: The repository for esn_dataset contains custom code which must be executed to correctly load the dataset. You can inspect the repository content at esn_dataset.py\n",
      "You can avoid this message in future by passing the argument `trust_remote_code=True`.\n",
      "Passing `trust_remote_code=True` will be mandatory to load this dataset from the next major release of `datasets`.\n",
      "  warnings.warn(\n"
     ]
    },
    {
     "name": "stdout",
     "output_type": "stream",
     "text": [
      "We are at epoch: 43\n",
      "[18.49662208557129, 6.389913558959961, 11.647063255310059, 10.123578071594238, 5.813021659851074, 11.797889709472656, 14.189797401428223, 20.903348922729492, 26.655963897705078, 26.655963897705078, 26.655963897705078, 26.655963897705078, 26.655963897705078, 26.655963897705078, 26.655963897705078, 18.49662208557129, 6.389913558959961, 11.647063255310059, 10.123578071594238, 5.813021659851074, 11.797889709472656]\n",
      "[1.6000297, -3.7763445, 1.3154093, 4.2749434, 9.524367, 2.7332296, 5.389622, 7.3213215, 11.512114, 8.354195, 6.3308697, 7.6688995, 2.7134538, 10.088972, 16.171803, 3.7836947, 12.726675, 2.548543, -3.8182535, 10.625499, -0.7770433]\n",
      "2021-11-30\n"
     ]
    },
    {
     "name": "stderr",
     "output_type": "stream",
     "text": [
      "/home/tf1/.local/lib/python3.8/site-packages/datasets/load.py:922: FutureWarning: The repository for esn_dataset contains custom code which must be executed to correctly load the dataset. You can inspect the repository content at esn_dataset.py\n",
      "You can avoid this message in future by passing the argument `trust_remote_code=True`.\n",
      "Passing `trust_remote_code=True` will be mandatory to load this dataset from the next major release of `datasets`.\n",
      "  warnings.warn(\n"
     ]
    },
    {
     "name": "stdout",
     "output_type": "stream",
     "text": [
      "We are at epoch: 74\n",
      "[18.49662208557129, 6.389913558959961, 11.647063255310059, 10.123578071594238, 5.813021659851074, 11.797889709472656, 14.189797401428223, 20.903348922729492, 26.655963897705078, 26.655963897705078, 26.655963897705078, 26.655963897705078, 26.655963897705078, 26.655963897705078, 26.655963897705078, 18.49662208557129, 6.389913558959961, 11.647063255310059, 10.123578071594238, 5.813021659851074, 11.797889709472656, 14.189797401428223]\n",
      "[1.6000297, -3.7763445, 1.3154093, 4.2749434, 9.524367, 2.7332296, 5.389622, 7.3213215, 11.512114, 8.354195, 6.3308697, 7.6688995, 2.7134538, 10.088972, 16.171803, 3.7836947, 12.726675, 2.548543, -3.8182535, 10.625499, -0.7770433, 9.078903]\n",
      "2021-12-02\n"
     ]
    },
    {
     "name": "stderr",
     "output_type": "stream",
     "text": [
      "/home/tf1/.local/lib/python3.8/site-packages/datasets/load.py:922: FutureWarning: The repository for esn_dataset contains custom code which must be executed to correctly load the dataset. You can inspect the repository content at esn_dataset.py\n",
      "You can avoid this message in future by passing the argument `trust_remote_code=True`.\n",
      "Passing `trust_remote_code=True` will be mandatory to load this dataset from the next major release of `datasets`.\n",
      "  warnings.warn(\n"
     ]
    },
    {
     "name": "stdout",
     "output_type": "stream",
     "text": [
      "We are at epoch: 76\n",
      "[18.49662208557129, 6.389913558959961, 11.647063255310059, 10.123578071594238, 5.813021659851074, 11.797889709472656, 14.189797401428223, 20.903348922729492, 26.655963897705078, 26.655963897705078, 26.655963897705078, 26.655963897705078, 26.655963897705078, 26.655963897705078, 26.655963897705078, 18.49662208557129, 6.389913558959961, 11.647063255310059, 10.123578071594238, 5.813021659851074, 11.797889709472656, 14.189797401428223, 20.903348922729492]\n",
      "[1.6000297, -3.7763445, 1.3154093, 4.2749434, 9.524367, 2.7332296, 5.389622, 7.3213215, 11.512114, 8.354195, 6.3308697, 7.6688995, 2.7134538, 10.088972, 16.171803, 3.7836947, 12.726675, 2.548543, -3.8182535, 10.625499, -0.7770433, 9.078903, 3.535879]\n",
      "2021-12-04\n"
     ]
    },
    {
     "name": "stderr",
     "output_type": "stream",
     "text": [
      "/home/tf1/.local/lib/python3.8/site-packages/datasets/load.py:922: FutureWarning: The repository for esn_dataset contains custom code which must be executed to correctly load the dataset. You can inspect the repository content at esn_dataset.py\n",
      "You can avoid this message in future by passing the argument `trust_remote_code=True`.\n",
      "Passing `trust_remote_code=True` will be mandatory to load this dataset from the next major release of `datasets`.\n",
      "  warnings.warn(\n"
     ]
    },
    {
     "name": "stdout",
     "output_type": "stream",
     "text": [
      "We are at epoch: 93\n",
      "[18.49662208557129, 6.389913558959961, 11.647063255310059, 10.123578071594238, 5.813021659851074, 11.797889709472656, 14.189797401428223, 20.903348922729492, 26.655963897705078, 26.655963897705078, 26.655963897705078, 26.655963897705078, 26.655963897705078, 26.655963897705078, 26.655963897705078, 18.49662208557129, 6.389913558959961, 11.647063255310059, 10.123578071594238, 5.813021659851074, 11.797889709472656, 14.189797401428223, 20.903348922729492, 26.655963897705078]\n",
      "[1.6000297, -3.7763445, 1.3154093, 4.2749434, 9.524367, 2.7332296, 5.389622, 7.3213215, 11.512114, 8.354195, 6.3308697, 7.6688995, 2.7134538, 10.088972, 16.171803, 3.7836947, 12.726675, 2.548543, -3.8182535, 10.625499, -0.7770433, 9.078903, 3.535879, 1.963439]\n",
      "2021-12-06\n"
     ]
    },
    {
     "name": "stderr",
     "output_type": "stream",
     "text": [
      "/home/tf1/.local/lib/python3.8/site-packages/datasets/load.py:922: FutureWarning: The repository for esn_dataset contains custom code which must be executed to correctly load the dataset. You can inspect the repository content at esn_dataset.py\n",
      "You can avoid this message in future by passing the argument `trust_remote_code=True`.\n",
      "Passing `trust_remote_code=True` will be mandatory to load this dataset from the next major release of `datasets`.\n",
      "  warnings.warn(\n"
     ]
    },
    {
     "name": "stdout",
     "output_type": "stream",
     "text": [
      "We are at epoch: 35\n",
      "[18.49662208557129, 6.389913558959961, 11.647063255310059, 10.123578071594238, 5.813021659851074, 11.797889709472656, 14.189797401428223, 20.903348922729492, 26.655963897705078, 26.655963897705078, 26.655963897705078, 26.655963897705078, 26.655963897705078, 26.655963897705078, 26.655963897705078, 18.49662208557129, 6.389913558959961, 11.647063255310059, 10.123578071594238, 5.813021659851074, 11.797889709472656, 14.189797401428223, 20.903348922729492, 26.655963897705078, 26.655963897705078]\n",
      "[1.6000297, -3.7763445, 1.3154093, 4.2749434, 9.524367, 2.7332296, 5.389622, 7.3213215, 11.512114, 8.354195, 6.3308697, 7.6688995, 2.7134538, 10.088972, 16.171803, 3.7836947, 12.726675, 2.548543, -3.8182535, 10.625499, -0.7770433, 9.078903, 3.535879, 1.963439, 1.513874]\n",
      "2021-12-08\n"
     ]
    },
    {
     "name": "stderr",
     "output_type": "stream",
     "text": [
      "/home/tf1/.local/lib/python3.8/site-packages/datasets/load.py:922: FutureWarning: The repository for esn_dataset contains custom code which must be executed to correctly load the dataset. You can inspect the repository content at esn_dataset.py\n",
      "You can avoid this message in future by passing the argument `trust_remote_code=True`.\n",
      "Passing `trust_remote_code=True` will be mandatory to load this dataset from the next major release of `datasets`.\n",
      "  warnings.warn(\n"
     ]
    },
    {
     "name": "stdout",
     "output_type": "stream",
     "text": [
      "We are at epoch: 64\n",
      "[18.49662208557129, 6.389913558959961, 11.647063255310059, 10.123578071594238, 5.813021659851074, 11.797889709472656, 14.189797401428223, 20.903348922729492, 26.655963897705078, 26.655963897705078, 26.655963897705078, 26.655963897705078, 26.655963897705078, 26.655963897705078, 26.655963897705078, 18.49662208557129, 6.389913558959961, 11.647063255310059, 10.123578071594238, 5.813021659851074, 11.797889709472656, 14.189797401428223, 20.903348922729492, 26.655963897705078, 26.655963897705078, 26.655963897705078]\n",
      "[1.6000297, -3.7763445, 1.3154093, 4.2749434, 9.524367, 2.7332296, 5.389622, 7.3213215, 11.512114, 8.354195, 6.3308697, 7.6688995, 2.7134538, 10.088972, 16.171803, 3.7836947, 12.726675, 2.548543, -3.8182535, 10.625499, -0.7770433, 9.078903, 3.535879, 1.963439, 1.513874, 7.158041]\n",
      "2021-12-10\n"
     ]
    },
    {
     "name": "stderr",
     "output_type": "stream",
     "text": [
      "/home/tf1/.local/lib/python3.8/site-packages/datasets/load.py:922: FutureWarning: The repository for esn_dataset contains custom code which must be executed to correctly load the dataset. You can inspect the repository content at esn_dataset.py\n",
      "You can avoid this message in future by passing the argument `trust_remote_code=True`.\n",
      "Passing `trust_remote_code=True` will be mandatory to load this dataset from the next major release of `datasets`.\n",
      "  warnings.warn(\n"
     ]
    },
    {
     "name": "stdout",
     "output_type": "stream",
     "text": [
      "We are at epoch: 61\n",
      "[18.49662208557129, 6.389913558959961, 11.647063255310059, 10.123578071594238, 5.813021659851074, 11.797889709472656, 14.189797401428223, 20.903348922729492, 26.655963897705078, 26.655963897705078, 26.655963897705078, 26.655963897705078, 26.655963897705078, 26.655963897705078, 26.655963897705078, 18.49662208557129, 6.389913558959961, 11.647063255310059, 10.123578071594238, 5.813021659851074, 11.797889709472656, 14.189797401428223, 20.903348922729492, 26.655963897705078, 26.655963897705078, 26.655963897705078, 26.655963897705078]\n",
      "[1.6000297, -3.7763445, 1.3154093, 4.2749434, 9.524367, 2.7332296, 5.389622, 7.3213215, 11.512114, 8.354195, 6.3308697, 7.6688995, 2.7134538, 10.088972, 16.171803, 3.7836947, 12.726675, 2.548543, -3.8182535, 10.625499, -0.7770433, 9.078903, 3.535879, 1.963439, 1.513874, 7.158041, 6.5445786]\n",
      "2021-12-12\n"
     ]
    },
    {
     "name": "stderr",
     "output_type": "stream",
     "text": [
      "/home/tf1/.local/lib/python3.8/site-packages/datasets/load.py:922: FutureWarning: The repository for esn_dataset contains custom code which must be executed to correctly load the dataset. You can inspect the repository content at esn_dataset.py\n",
      "You can avoid this message in future by passing the argument `trust_remote_code=True`.\n",
      "Passing `trust_remote_code=True` will be mandatory to load this dataset from the next major release of `datasets`.\n",
      "  warnings.warn(\n"
     ]
    },
    {
     "name": "stdout",
     "output_type": "stream",
     "text": [
      "We are at epoch: 58\n",
      "[18.49662208557129, 6.389913558959961, 11.647063255310059, 10.123578071594238, 5.813021659851074, 11.797889709472656, 14.189797401428223, 20.903348922729492, 26.655963897705078, 26.655963897705078, 26.655963897705078, 26.655963897705078, 26.655963897705078, 26.655963897705078, 26.655963897705078, 18.49662208557129, 6.389913558959961, 11.647063255310059, 10.123578071594238, 5.813021659851074, 11.797889709472656, 14.189797401428223, 20.903348922729492, 26.655963897705078, 26.655963897705078, 26.655963897705078, 26.655963897705078, 26.655963897705078]\n",
      "[1.6000297, -3.7763445, 1.3154093, 4.2749434, 9.524367, 2.7332296, 5.389622, 7.3213215, 11.512114, 8.354195, 6.3308697, 7.6688995, 2.7134538, 10.088972, 16.171803, 3.7836947, 12.726675, 2.548543, -3.8182535, 10.625499, -0.7770433, 9.078903, 3.535879, 1.963439, 1.513874, 7.158041, 6.5445786, 6.212042]\n",
      "2021-12-14\n"
     ]
    },
    {
     "name": "stderr",
     "output_type": "stream",
     "text": [
      "/home/tf1/.local/lib/python3.8/site-packages/datasets/load.py:922: FutureWarning: The repository for esn_dataset contains custom code which must be executed to correctly load the dataset. You can inspect the repository content at esn_dataset.py\n",
      "You can avoid this message in future by passing the argument `trust_remote_code=True`.\n",
      "Passing `trust_remote_code=True` will be mandatory to load this dataset from the next major release of `datasets`.\n",
      "  warnings.warn(\n"
     ]
    },
    {
     "name": "stdout",
     "output_type": "stream",
     "text": [
      "[18.49662208557129, 6.389913558959961, 11.647063255310059, 10.123578071594238, 5.813021659851074, 11.797889709472656, 14.189797401428223, 20.903348922729492, 26.655963897705078, 26.655963897705078, 26.655963897705078, 26.655963897705078, 26.655963897705078, 26.655963897705078, 26.655963897705078, 18.49662208557129, 6.389913558959961, 11.647063255310059, 10.123578071594238, 5.813021659851074, 11.797889709472656, 14.189797401428223, 20.903348922729492, 26.655963897705078, 26.655963897705078, 26.655963897705078, 26.655963897705078, 26.655963897705078, 26.655963897705078]\n",
      "[1.6000297, -3.7763445, 1.3154093, 4.2749434, 9.524367, 2.7332296, 5.389622, 7.3213215, 11.512114, 8.354195, 6.3308697, 7.6688995, 2.7134538, 10.088972, 16.171803, 3.7836947, 12.726675, 2.548543, -3.8182535, 10.625499, -0.7770433, 9.078903, 3.535879, 1.963439, 1.513874, 7.158041, 6.5445786, 6.212042, 10.576574]\n",
      "2021-12-16\n"
     ]
    },
    {
     "name": "stderr",
     "output_type": "stream",
     "text": [
      "/home/tf1/.local/lib/python3.8/site-packages/datasets/load.py:922: FutureWarning: The repository for esn_dataset contains custom code which must be executed to correctly load the dataset. You can inspect the repository content at esn_dataset.py\n",
      "You can avoid this message in future by passing the argument `trust_remote_code=True`.\n",
      "Passing `trust_remote_code=True` will be mandatory to load this dataset from the next major release of `datasets`.\n",
      "  warnings.warn(\n"
     ]
    },
    {
     "name": "stdout",
     "output_type": "stream",
     "text": [
      "We are at epoch: 66\n",
      "[18.49662208557129, 6.389913558959961, 11.647063255310059, 10.123578071594238, 5.813021659851074, 11.797889709472656, 14.189797401428223, 20.903348922729492, 26.655963897705078, 26.655963897705078, 26.655963897705078, 26.655963897705078, 26.655963897705078, 26.655963897705078, 26.655963897705078, 18.49662208557129, 6.389913558959961, 11.647063255310059, 10.123578071594238, 5.813021659851074, 11.797889709472656, 14.189797401428223, 20.903348922729492, 26.655963897705078, 26.655963897705078, 26.655963897705078, 26.655963897705078, 26.655963897705078, 26.655963897705078, 26.655963897705078]\n",
      "[1.6000297, -3.7763445, 1.3154093, 4.2749434, 9.524367, 2.7332296, 5.389622, 7.3213215, 11.512114, 8.354195, 6.3308697, 7.6688995, 2.7134538, 10.088972, 16.171803, 3.7836947, 12.726675, 2.548543, -3.8182535, 10.625499, -0.7770433, 9.078903, 3.535879, 1.963439, 1.513874, 7.158041, 6.5445786, 6.212042, 10.576574, 10.988867]\n"
     ]
    }
   ],
   "source": [
    "start_time = time.time()\n",
    "for date in dates:\n",
    "    print(date)\n",
    "    res = train_transformers(min_date_eval = date)\n",
    "    val_loss,epoch,pred,truth,hosp = res\n",
    "    diff_true.append(truth)\n",
    "    diff_pred.append(pred)\n",
    "    hosp_true.append(hosp)\n",
    "    print(diff_true)\n",
    "    print(diff_pred)\n",
    "\n",
    "end_time = time.time()\n",
    "elapsed_time = end_time - start_time\n",
    "results = {\n",
    "    'Scenario': \"TRANSFORMER\",\n",
    "    'Elapsed Time': [elapsed_time]\n",
    "    }\n",
    "results_df = pd.DataFrame(results)\n",
    "results_df.to_csv(\"results/timing_TRASNFORMERS_PCA.csv\")"
   ]
  },
  {
   "cell_type": "code",
   "execution_count": null,
   "id": "30ffe223-6ae9-4e05-966b-51d1a7345c52",
   "metadata": {},
   "outputs": [],
   "source": []
  }
 ],
 "metadata": {
  "kernelspec": {
   "display_name": "Python 3 (ipykernel)",
   "language": "python",
   "name": "python3"
  },
  "language_info": {
   "codemirror_mode": {
    "name": "ipython",
    "version": 3
   },
   "file_extension": ".py",
   "mimetype": "text/x-python",
   "name": "python",
   "nbconvert_exporter": "python",
   "pygments_lexer": "ipython3",
   "version": "3.8.10"
  }
 },
 "nbformat": 4,
 "nbformat_minor": 5
}
