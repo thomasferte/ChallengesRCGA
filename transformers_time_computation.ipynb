{
 "cells": [
  {
   "cell_type": "code",
   "execution_count": 21,
   "id": "73d62259-cd95-4ece-b95c-9f0ae81de8d6",
   "metadata": {},
   "outputs": [
    {
     "name": "stdout",
     "output_type": "stream",
     "text": [
      "\n",
      "\u001b[1m[\u001b[0m\u001b[34;49mnotice\u001b[0m\u001b[1;39;49m]\u001b[0m\u001b[39;49m A new release of pip is available: \u001b[0m\u001b[31;49m23.0.1\u001b[0m\u001b[39;49m -> \u001b[0m\u001b[32;49m23.3.2\u001b[0m\n",
      "\u001b[1m[\u001b[0m\u001b[34;49mnotice\u001b[0m\u001b[1;39;49m]\u001b[0m\u001b[39;49m To update, run: \u001b[0m\u001b[32;49mpython3 -m pip install --upgrade pip\u001b[0m\n",
      "\n",
      "\u001b[1m[\u001b[0m\u001b[34;49mnotice\u001b[0m\u001b[1;39;49m]\u001b[0m\u001b[39;49m A new release of pip is available: \u001b[0m\u001b[31;49m23.0.1\u001b[0m\u001b[39;49m -> \u001b[0m\u001b[32;49m23.3.2\u001b[0m\n",
      "\u001b[1m[\u001b[0m\u001b[34;49mnotice\u001b[0m\u001b[1;39;49m]\u001b[0m\u001b[39;49m To update, run: \u001b[0m\u001b[32;49mpython3 -m pip install --upgrade pip\u001b[0m\n",
      "\n",
      "\u001b[1m[\u001b[0m\u001b[34;49mnotice\u001b[0m\u001b[1;39;49m]\u001b[0m\u001b[39;49m A new release of pip is available: \u001b[0m\u001b[31;49m23.0.1\u001b[0m\u001b[39;49m -> \u001b[0m\u001b[32;49m23.3.2\u001b[0m\n",
      "\u001b[1m[\u001b[0m\u001b[34;49mnotice\u001b[0m\u001b[1;39;49m]\u001b[0m\u001b[39;49m To update, run: \u001b[0m\u001b[32;49mpython3 -m pip install --upgrade pip\u001b[0m\n",
      "\n",
      "\u001b[1m[\u001b[0m\u001b[34;49mnotice\u001b[0m\u001b[1;39;49m]\u001b[0m\u001b[39;49m A new release of pip is available: \u001b[0m\u001b[31;49m23.0.1\u001b[0m\u001b[39;49m -> \u001b[0m\u001b[32;49m23.3.2\u001b[0m\n",
      "\u001b[1m[\u001b[0m\u001b[34;49mnotice\u001b[0m\u001b[1;39;49m]\u001b[0m\u001b[39;49m To update, run: \u001b[0m\u001b[32;49mpython3 -m pip install --upgrade pip\u001b[0m\n"
     ]
    }
   ],
   "source": [
    "!pip install -q datasets\n",
    "\n",
    "!pip install -q evaluate\n",
    "\n",
    "!pip install -q accelerate\n",
    "\n",
    "!pip install -q gluonts ujson"
   ]
  },
  {
   "cell_type": "code",
   "execution_count": 50,
   "id": "adba64fb-aaca-495d-beb9-c059a9bd4869",
   "metadata": {},
   "outputs": [],
   "source": [
    "import os\n",
    "# os.chdir('/home/ddutartr/transformers/')\n",
    "os.chdir('/home/tf1/Documents/recherche/prediction_covid/high_dimension_reservoir/')\n",
    "from trans_utils import train_transformers\n",
    "import matplotlib.pyplot as plt\n",
    "import glob\n",
    "import pandas as pd\n",
    "import time\n",
    "from datetime import datetime,timedelta\n"
   ]
  },
  {
   "cell_type": "code",
   "execution_count": 31,
   "id": "a81a87fa-8014-4843-b95c-d01c2d4596ea",
   "metadata": {},
   "outputs": [
    {
     "name": "stdout",
     "output_type": "stream",
     "text": [
      "Defaulting to user installation because normal site-packages is not writeable\n",
      "Requirement already satisfied: matplotlib in /home/tf1/.local/lib/python3.8/site-packages (3.7.1)\n",
      "Requirement already satisfied: packaging>=20.0 in /home/tf1/.local/lib/python3.8/site-packages (from matplotlib) (23.2)\n",
      "Requirement already satisfied: python-dateutil>=2.7 in /home/tf1/.local/lib/python3.8/site-packages (from matplotlib) (2.8.2)\n",
      "Requirement already satisfied: pillow>=6.2.0 in /usr/lib/python3/dist-packages (from matplotlib) (7.0.0)\n",
      "Requirement already satisfied: contourpy>=1.0.1 in /home/tf1/.local/lib/python3.8/site-packages (from matplotlib) (1.0.7)\n",
      "Requirement already satisfied: fonttools>=4.22.0 in /home/tf1/.local/lib/python3.8/site-packages (from matplotlib) (4.39.3)\n",
      "Requirement already satisfied: cycler>=0.10 in /home/tf1/.local/lib/python3.8/site-packages (from matplotlib) (0.11.0)\n",
      "Requirement already satisfied: kiwisolver>=1.0.1 in /home/tf1/.local/lib/python3.8/site-packages (from matplotlib) (1.4.4)\n",
      "Requirement already satisfied: numpy>=1.20 in /home/tf1/.local/lib/python3.8/site-packages (from matplotlib) (1.22.4)\n",
      "Requirement already satisfied: importlib-resources>=3.2.0 in /home/tf1/.local/lib/python3.8/site-packages (from matplotlib) (5.12.0)\n",
      "Requirement already satisfied: pyparsing>=2.3.1 in /usr/lib/python3/dist-packages (from matplotlib) (2.4.6)\n",
      "Requirement already satisfied: zipp>=3.1.0 in /home/tf1/.local/lib/python3.8/site-packages (from importlib-resources>=3.2.0->matplotlib) (3.15.0)\n",
      "Requirement already satisfied: six>=1.5 in /usr/lib/python3/dist-packages (from python-dateutil>=2.7->matplotlib) (1.14.0)\n",
      "\n",
      "\u001b[1m[\u001b[0m\u001b[34;49mnotice\u001b[0m\u001b[1;39;49m]\u001b[0m\u001b[39;49m A new release of pip is available: \u001b[0m\u001b[31;49m23.0.1\u001b[0m\u001b[39;49m -> \u001b[0m\u001b[32;49m23.3.2\u001b[0m\n",
      "\u001b[1m[\u001b[0m\u001b[34;49mnotice\u001b[0m\u001b[1;39;49m]\u001b[0m\u001b[39;49m To update, run: \u001b[0m\u001b[32;49mpython3 -m pip install --upgrade pip\u001b[0m\n"
     ]
    }
   ],
   "source": [
    "!pip install matplotlib"
   ]
  },
  {
   "cell_type": "code",
   "execution_count": 51,
   "id": "d6d6a9d0-a674-46ff-91d6-2570a354dd5f",
   "metadata": {},
   "outputs": [],
   "source": [
    "min_date_eval= '2021-03-01'\n",
    "data_dir = 'data_obfuscated_time/'\n",
    "forecast_days= 14\n",
    "files = pd.DataFrame(glob.glob(data_dir + '/*.csv'),columns = ['full_path'])\n",
    "files['file_name'] = files.full_path.str.split('/',n=3).str[-1]\n",
    "files['date'] = pd.to_datetime(files.file_name.str.split('.csv').str[0],format='%Y%m%d')\n",
    "files = files.sort_values(by='date').reset_index()\n",
    "min_date_eval = datetime.strptime(min_date_eval, '%Y-%m-%d') - timedelta(days=forecast_days)\n",
    "selected_files= files[files['date']<min_date_eval]\n",
    "selected_files= files[files['date']>=min_date_eval]\n",
    "\n",
    "diff_true =[]\n",
    "diff_pred =[]\n",
    "hosp_true =[]\n",
    "dates = selected_files.date.dt.strftime(\"%Y-%m-%d\").to_list()"
   ]
  },
  {
   "cell_type": "code",
   "execution_count": 52,
   "id": "b3056d86-2dbc-49a6-a8a0-d4448401f37e",
   "metadata": {},
   "outputs": [
    {
     "data": {
      "text/plain": [
       "['2021-11-18',\n",
       " '2021-11-20',\n",
       " '2021-11-22',\n",
       " '2021-11-24',\n",
       " '2021-11-26',\n",
       " '2021-11-28',\n",
       " '2021-11-30',\n",
       " '2021-12-02',\n",
       " '2021-12-04',\n",
       " '2021-12-06',\n",
       " '2021-12-08',\n",
       " '2021-12-10',\n",
       " '2021-12-12',\n",
       " '2021-12-14',\n",
       " '2021-12-16']"
      ]
     },
     "execution_count": 52,
     "metadata": {},
     "output_type": "execute_result"
    }
   ],
   "source": [
    "dates"
   ]
  },
  {
   "cell_type": "code",
   "execution_count": 53,
   "id": "3c041036-bd09-4fce-ad47-11c5e91de1d7",
   "metadata": {},
   "outputs": [
    {
     "name": "stdout",
     "output_type": "stream",
     "text": [
      "2021-11-18\n"
     ]
    },
    {
     "name": "stderr",
     "output_type": "stream",
     "text": [
      "/home/tf1/.local/lib/python3.8/site-packages/datasets/load.py:922: FutureWarning: The repository for esn_dataset contains custom code which must be executed to correctly load the dataset. You can inspect the repository content at esn_dataset.py\n",
      "You can avoid this message in future by passing the argument `trust_remote_code=True`.\n",
      "Passing `trust_remote_code=True` will be mandatory to load this dataset from the next major release of `datasets`.\n",
      "  warnings.warn(\n"
     ]
    },
    {
     "name": "stdout",
     "output_type": "stream",
     "text": [
      "ESNCovidConfig(name='esncovid', version=1.0.0, data_dir='data_obfuscated_time/', data_files=None, description='Time series from XXXX.', freq='1D', prediction_length=14, min_date_eval='2021-11-18', forecast_days=14, minanteriorite=1000, is_epidemio=True, is_best_param=True)\n",
      "data_obfuscated_time/\n"
     ]
    },
    {
     "data": {
      "application/vnd.jupyter.widget-view+json": {
       "model_id": "322cbef9d42a489e8a2251231205c271",
       "version_major": 2,
       "version_minor": 0
      },
      "text/plain": [
       "Generating validation split: 0 examples [00:00, ? examples/s]"
      ]
     },
     "metadata": {},
     "output_type": "display_data"
    },
    {
     "data": {
      "application/vnd.jupyter.widget-view+json": {
       "model_id": "43d95be3ba204d5a9c47e8da29a01548",
       "version_major": 2,
       "version_minor": 0
      },
      "text/plain": [
       "Generating test split: 0 examples [00:00, ? examples/s]"
      ]
     },
     "metadata": {},
     "output_type": "display_data"
    },
    {
     "name": "stdout",
     "output_type": "stream",
     "text": [
      "We are at epoch: 51\n",
      "[18.49662208557129]\n",
      "[20.508667]\n",
      "2021-11-20\n"
     ]
    },
    {
     "name": "stderr",
     "output_type": "stream",
     "text": [
      "/home/tf1/.local/lib/python3.8/site-packages/datasets/load.py:922: FutureWarning: The repository for esn_dataset contains custom code which must be executed to correctly load the dataset. You can inspect the repository content at esn_dataset.py\n",
      "You can avoid this message in future by passing the argument `trust_remote_code=True`.\n",
      "Passing `trust_remote_code=True` will be mandatory to load this dataset from the next major release of `datasets`.\n",
      "  warnings.warn(\n"
     ]
    },
    {
     "name": "stdout",
     "output_type": "stream",
     "text": [
      "ESNCovidConfig(name='esncovid', version=1.0.0, data_dir='data_obfuscated_time/', data_files=None, description='Time series from XXXX.', freq='1D', prediction_length=14, min_date_eval='2021-11-20', forecast_days=14, minanteriorite=1000, is_epidemio=True, is_best_param=True)\n",
      "data_obfuscated_time/\n"
     ]
    },
    {
     "data": {
      "application/vnd.jupyter.widget-view+json": {
       "model_id": "8f5f51a9c09640dfbfc88ec52a81fd52",
       "version_major": 2,
       "version_minor": 0
      },
      "text/plain": [
       "Generating validation split: 0 examples [00:00, ? examples/s]"
      ]
     },
     "metadata": {},
     "output_type": "display_data"
    },
    {
     "data": {
      "application/vnd.jupyter.widget-view+json": {
       "model_id": "49eb338b29694951ae3a17f0dbabdca7",
       "version_major": 2,
       "version_minor": 0
      },
      "text/plain": [
       "Generating test split: 0 examples [00:00, ? examples/s]"
      ]
     },
     "metadata": {},
     "output_type": "display_data"
    },
    {
     "name": "stdout",
     "output_type": "stream",
     "text": [
      "We are at epoch: 56\n",
      "[18.49662208557129, 6.389913558959961]\n",
      "[20.508667, 7.568428]\n",
      "2021-11-22\n"
     ]
    },
    {
     "name": "stderr",
     "output_type": "stream",
     "text": [
      "/home/tf1/.local/lib/python3.8/site-packages/datasets/load.py:922: FutureWarning: The repository for esn_dataset contains custom code which must be executed to correctly load the dataset. You can inspect the repository content at esn_dataset.py\n",
      "You can avoid this message in future by passing the argument `trust_remote_code=True`.\n",
      "Passing `trust_remote_code=True` will be mandatory to load this dataset from the next major release of `datasets`.\n",
      "  warnings.warn(\n"
     ]
    },
    {
     "name": "stdout",
     "output_type": "stream",
     "text": [
      "ESNCovidConfig(name='esncovid', version=1.0.0, data_dir='data_obfuscated_time/', data_files=None, description='Time series from XXXX.', freq='1D', prediction_length=14, min_date_eval='2021-11-22', forecast_days=14, minanteriorite=1000, is_epidemio=True, is_best_param=True)\n",
      "data_obfuscated_time/\n"
     ]
    },
    {
     "data": {
      "application/vnd.jupyter.widget-view+json": {
       "model_id": "9e9302d5668d4697a02c817530a4add8",
       "version_major": 2,
       "version_minor": 0
      },
      "text/plain": [
       "Generating validation split: 0 examples [00:00, ? examples/s]"
      ]
     },
     "metadata": {},
     "output_type": "display_data"
    },
    {
     "data": {
      "application/vnd.jupyter.widget-view+json": {
       "model_id": "860a595ccec0424d92905c56a062fb80",
       "version_major": 2,
       "version_minor": 0
      },
      "text/plain": [
       "Generating test split: 0 examples [00:00, ? examples/s]"
      ]
     },
     "metadata": {},
     "output_type": "display_data"
    },
    {
     "name": "stdout",
     "output_type": "stream",
     "text": [
      "We are at epoch: 75\n",
      "[18.49662208557129, 6.389913558959961, 11.647063255310059]\n",
      "[20.508667, 7.568428, 13.653658]\n",
      "2021-11-24\n"
     ]
    },
    {
     "name": "stderr",
     "output_type": "stream",
     "text": [
      "/home/tf1/.local/lib/python3.8/site-packages/datasets/load.py:922: FutureWarning: The repository for esn_dataset contains custom code which must be executed to correctly load the dataset. You can inspect the repository content at esn_dataset.py\n",
      "You can avoid this message in future by passing the argument `trust_remote_code=True`.\n",
      "Passing `trust_remote_code=True` will be mandatory to load this dataset from the next major release of `datasets`.\n",
      "  warnings.warn(\n"
     ]
    },
    {
     "name": "stdout",
     "output_type": "stream",
     "text": [
      "ESNCovidConfig(name='esncovid', version=1.0.0, data_dir='data_obfuscated_time/', data_files=None, description='Time series from XXXX.', freq='1D', prediction_length=14, min_date_eval='2021-11-24', forecast_days=14, minanteriorite=1000, is_epidemio=True, is_best_param=True)\n",
      "data_obfuscated_time/\n"
     ]
    },
    {
     "data": {
      "application/vnd.jupyter.widget-view+json": {
       "model_id": "9f1edec971ed4d00b629c996efb701f7",
       "version_major": 2,
       "version_minor": 0
      },
      "text/plain": [
       "Generating validation split: 0 examples [00:00, ? examples/s]"
      ]
     },
     "metadata": {},
     "output_type": "display_data"
    },
    {
     "data": {
      "application/vnd.jupyter.widget-view+json": {
       "model_id": "9e44952f47854b80bbb45c6163099cf9",
       "version_major": 2,
       "version_minor": 0
      },
      "text/plain": [
       "Generating test split: 0 examples [00:00, ? examples/s]"
      ]
     },
     "metadata": {},
     "output_type": "display_data"
    },
    {
     "name": "stdout",
     "output_type": "stream",
     "text": [
      "We are at epoch: 67\n",
      "[18.49662208557129, 6.389913558959961, 11.647063255310059, 10.123578071594238]\n",
      "[20.508667, 7.568428, 13.653658, 18.038746]\n",
      "2021-11-26\n"
     ]
    },
    {
     "name": "stderr",
     "output_type": "stream",
     "text": [
      "/home/tf1/.local/lib/python3.8/site-packages/datasets/load.py:922: FutureWarning: The repository for esn_dataset contains custom code which must be executed to correctly load the dataset. You can inspect the repository content at esn_dataset.py\n",
      "You can avoid this message in future by passing the argument `trust_remote_code=True`.\n",
      "Passing `trust_remote_code=True` will be mandatory to load this dataset from the next major release of `datasets`.\n",
      "  warnings.warn(\n"
     ]
    },
    {
     "name": "stdout",
     "output_type": "stream",
     "text": [
      "ESNCovidConfig(name='esncovid', version=1.0.0, data_dir='data_obfuscated_time/', data_files=None, description='Time series from XXXX.', freq='1D', prediction_length=14, min_date_eval='2021-11-26', forecast_days=14, minanteriorite=1000, is_epidemio=True, is_best_param=True)\n",
      "data_obfuscated_time/\n"
     ]
    },
    {
     "data": {
      "application/vnd.jupyter.widget-view+json": {
       "model_id": "cfbdf3297a644e13857918d649d0610f",
       "version_major": 2,
       "version_minor": 0
      },
      "text/plain": [
       "Generating validation split: 0 examples [00:00, ? examples/s]"
      ]
     },
     "metadata": {},
     "output_type": "display_data"
    },
    {
     "data": {
      "application/vnd.jupyter.widget-view+json": {
       "model_id": "2cac9b40a55b4cbdadac08e7a53cf186",
       "version_major": 2,
       "version_minor": 0
      },
      "text/plain": [
       "Generating test split: 0 examples [00:00, ? examples/s]"
      ]
     },
     "metadata": {},
     "output_type": "display_data"
    },
    {
     "name": "stdout",
     "output_type": "stream",
     "text": [
      "We are at epoch: 62\n",
      "[18.49662208557129, 6.389913558959961, 11.647063255310059, 10.123578071594238, 5.813021659851074]\n",
      "[20.508667, 7.568428, 13.653658, 18.038746, 11.355734]\n",
      "2021-11-28\n"
     ]
    },
    {
     "name": "stderr",
     "output_type": "stream",
     "text": [
      "/home/tf1/.local/lib/python3.8/site-packages/datasets/load.py:922: FutureWarning: The repository for esn_dataset contains custom code which must be executed to correctly load the dataset. You can inspect the repository content at esn_dataset.py\n",
      "You can avoid this message in future by passing the argument `trust_remote_code=True`.\n",
      "Passing `trust_remote_code=True` will be mandatory to load this dataset from the next major release of `datasets`.\n",
      "  warnings.warn(\n"
     ]
    },
    {
     "name": "stdout",
     "output_type": "stream",
     "text": [
      "ESNCovidConfig(name='esncovid', version=1.0.0, data_dir='data_obfuscated_time/', data_files=None, description='Time series from XXXX.', freq='1D', prediction_length=14, min_date_eval='2021-11-28', forecast_days=14, minanteriorite=1000, is_epidemio=True, is_best_param=True)\n",
      "data_obfuscated_time/\n"
     ]
    },
    {
     "data": {
      "application/vnd.jupyter.widget-view+json": {
       "model_id": "8f95850959c64ac68f997046d39a92e2",
       "version_major": 2,
       "version_minor": 0
      },
      "text/plain": [
       "Generating validation split: 0 examples [00:00, ? examples/s]"
      ]
     },
     "metadata": {},
     "output_type": "display_data"
    },
    {
     "data": {
      "application/vnd.jupyter.widget-view+json": {
       "model_id": "4b773a7c507a4136890317ee6f1d33f9",
       "version_major": 2,
       "version_minor": 0
      },
      "text/plain": [
       "Generating test split: 0 examples [00:00, ? examples/s]"
      ]
     },
     "metadata": {},
     "output_type": "display_data"
    },
    {
     "name": "stdout",
     "output_type": "stream",
     "text": [
      "[18.49662208557129, 6.389913558959961, 11.647063255310059, 10.123578071594238, 5.813021659851074, 11.797889709472656]\n",
      "[20.508667, 7.568428, 13.653658, 18.038746, 11.355734, 7.226577]\n",
      "2021-11-30\n"
     ]
    },
    {
     "name": "stderr",
     "output_type": "stream",
     "text": [
      "/home/tf1/.local/lib/python3.8/site-packages/datasets/load.py:922: FutureWarning: The repository for esn_dataset contains custom code which must be executed to correctly load the dataset. You can inspect the repository content at esn_dataset.py\n",
      "You can avoid this message in future by passing the argument `trust_remote_code=True`.\n",
      "Passing `trust_remote_code=True` will be mandatory to load this dataset from the next major release of `datasets`.\n",
      "  warnings.warn(\n"
     ]
    },
    {
     "name": "stdout",
     "output_type": "stream",
     "text": [
      "ESNCovidConfig(name='esncovid', version=1.0.0, data_dir='data_obfuscated_time/', data_files=None, description='Time series from XXXX.', freq='1D', prediction_length=14, min_date_eval='2021-11-30', forecast_days=14, minanteriorite=1000, is_epidemio=True, is_best_param=True)\n",
      "data_obfuscated_time/\n"
     ]
    },
    {
     "data": {
      "application/vnd.jupyter.widget-view+json": {
       "model_id": "a5615a94c9a448028d5ed0dc35255de8",
       "version_major": 2,
       "version_minor": 0
      },
      "text/plain": [
       "Generating validation split: 0 examples [00:00, ? examples/s]"
      ]
     },
     "metadata": {},
     "output_type": "display_data"
    },
    {
     "data": {
      "application/vnd.jupyter.widget-view+json": {
       "model_id": "07ee5b810d1f4754a0220efa71583812",
       "version_major": 2,
       "version_minor": 0
      },
      "text/plain": [
       "Generating test split: 0 examples [00:00, ? examples/s]"
      ]
     },
     "metadata": {},
     "output_type": "display_data"
    },
    {
     "name": "stdout",
     "output_type": "stream",
     "text": [
      "We are at epoch: 45\n",
      "[18.49662208557129, 6.389913558959961, 11.647063255310059, 10.123578071594238, 5.813021659851074, 11.797889709472656, 14.189797401428223]\n",
      "[20.508667, 7.568428, 13.653658, 18.038746, 11.355734, 7.226577, 16.114277]\n",
      "2021-12-02\n"
     ]
    },
    {
     "name": "stderr",
     "output_type": "stream",
     "text": [
      "/home/tf1/.local/lib/python3.8/site-packages/datasets/load.py:922: FutureWarning: The repository for esn_dataset contains custom code which must be executed to correctly load the dataset. You can inspect the repository content at esn_dataset.py\n",
      "You can avoid this message in future by passing the argument `trust_remote_code=True`.\n",
      "Passing `trust_remote_code=True` will be mandatory to load this dataset from the next major release of `datasets`.\n",
      "  warnings.warn(\n"
     ]
    },
    {
     "name": "stdout",
     "output_type": "stream",
     "text": [
      "ESNCovidConfig(name='esncovid', version=1.0.0, data_dir='data_obfuscated_time/', data_files=None, description='Time series from XXXX.', freq='1D', prediction_length=14, min_date_eval='2021-12-02', forecast_days=14, minanteriorite=1000, is_epidemio=True, is_best_param=True)\n",
      "data_obfuscated_time/\n"
     ]
    },
    {
     "data": {
      "application/vnd.jupyter.widget-view+json": {
       "model_id": "690b0d10de5448a48d2676e87e837155",
       "version_major": 2,
       "version_minor": 0
      },
      "text/plain": [
       "Generating validation split: 0 examples [00:00, ? examples/s]"
      ]
     },
     "metadata": {},
     "output_type": "display_data"
    },
    {
     "data": {
      "application/vnd.jupyter.widget-view+json": {
       "model_id": "bc28d716cd604b0ba79f7204db29aa0f",
       "version_major": 2,
       "version_minor": 0
      },
      "text/plain": [
       "Generating test split: 0 examples [00:00, ? examples/s]"
      ]
     },
     "metadata": {},
     "output_type": "display_data"
    },
    {
     "name": "stdout",
     "output_type": "stream",
     "text": [
      "We are at epoch: 40\n",
      "[18.49662208557129, 6.389913558959961, 11.647063255310059, 10.123578071594238, 5.813021659851074, 11.797889709472656, 14.189797401428223, 20.903348922729492]\n",
      "[20.508667, 7.568428, 13.653658, 18.038746, 11.355734, 7.226577, 16.114277, 15.964183]\n",
      "2021-12-04\n"
     ]
    },
    {
     "name": "stderr",
     "output_type": "stream",
     "text": [
      "/home/tf1/.local/lib/python3.8/site-packages/datasets/load.py:922: FutureWarning: The repository for esn_dataset contains custom code which must be executed to correctly load the dataset. You can inspect the repository content at esn_dataset.py\n",
      "You can avoid this message in future by passing the argument `trust_remote_code=True`.\n",
      "Passing `trust_remote_code=True` will be mandatory to load this dataset from the next major release of `datasets`.\n",
      "  warnings.warn(\n"
     ]
    },
    {
     "name": "stdout",
     "output_type": "stream",
     "text": [
      "ESNCovidConfig(name='esncovid', version=1.0.0, data_dir='data_obfuscated_time/', data_files=None, description='Time series from XXXX.', freq='1D', prediction_length=14, min_date_eval='2021-12-04', forecast_days=14, minanteriorite=1000, is_epidemio=True, is_best_param=True)\n",
      "data_obfuscated_time/\n"
     ]
    },
    {
     "data": {
      "application/vnd.jupyter.widget-view+json": {
       "model_id": "6693f82103be4aaaa4bf5516374449be",
       "version_major": 2,
       "version_minor": 0
      },
      "text/plain": [
       "Generating validation split: 0 examples [00:00, ? examples/s]"
      ]
     },
     "metadata": {},
     "output_type": "display_data"
    },
    {
     "data": {
      "application/vnd.jupyter.widget-view+json": {
       "model_id": "241ded4cd3f942d58ab71763f88add00",
       "version_major": 2,
       "version_minor": 0
      },
      "text/plain": [
       "Generating test split: 0 examples [00:00, ? examples/s]"
      ]
     },
     "metadata": {},
     "output_type": "display_data"
    },
    {
     "name": "stdout",
     "output_type": "stream",
     "text": [
      "We are at epoch: 38\n",
      "[18.49662208557129, 6.389913558959961, 11.647063255310059, 10.123578071594238, 5.813021659851074, 11.797889709472656, 14.189797401428223, 20.903348922729492, 26.655963897705078]\n",
      "[20.508667, 7.568428, 13.653658, 18.038746, 11.355734, 7.226577, 16.114277, 15.964183, 5.8225265]\n",
      "2021-12-06\n"
     ]
    },
    {
     "name": "stderr",
     "output_type": "stream",
     "text": [
      "/home/tf1/.local/lib/python3.8/site-packages/datasets/load.py:922: FutureWarning: The repository for esn_dataset contains custom code which must be executed to correctly load the dataset. You can inspect the repository content at esn_dataset.py\n",
      "You can avoid this message in future by passing the argument `trust_remote_code=True`.\n",
      "Passing `trust_remote_code=True` will be mandatory to load this dataset from the next major release of `datasets`.\n",
      "  warnings.warn(\n"
     ]
    },
    {
     "name": "stdout",
     "output_type": "stream",
     "text": [
      "ESNCovidConfig(name='esncovid', version=1.0.0, data_dir='data_obfuscated_time/', data_files=None, description='Time series from XXXX.', freq='1D', prediction_length=14, min_date_eval='2021-12-06', forecast_days=14, minanteriorite=1000, is_epidemio=True, is_best_param=True)\n",
      "data_obfuscated_time/\n"
     ]
    },
    {
     "data": {
      "application/vnd.jupyter.widget-view+json": {
       "model_id": "3fce2da43a3a487d83866eaeec14b33a",
       "version_major": 2,
       "version_minor": 0
      },
      "text/plain": [
       "Generating validation split: 0 examples [00:00, ? examples/s]"
      ]
     },
     "metadata": {},
     "output_type": "display_data"
    },
    {
     "data": {
      "application/vnd.jupyter.widget-view+json": {
       "model_id": "c2d6330b4ec442e6afbe0f8dfc464882",
       "version_major": 2,
       "version_minor": 0
      },
      "text/plain": [
       "Generating test split: 0 examples [00:00, ? examples/s]"
      ]
     },
     "metadata": {},
     "output_type": "display_data"
    },
    {
     "name": "stdout",
     "output_type": "stream",
     "text": [
      "We are at epoch: 47\n",
      "[18.49662208557129, 6.389913558959961, 11.647063255310059, 10.123578071594238, 5.813021659851074, 11.797889709472656, 14.189797401428223, 20.903348922729492, 26.655963897705078, 26.655963897705078]\n",
      "[20.508667, 7.568428, 13.653658, 18.038746, 11.355734, 7.226577, 16.114277, 15.964183, 5.8225265, -3.058147]\n",
      "2021-12-08\n"
     ]
    },
    {
     "name": "stderr",
     "output_type": "stream",
     "text": [
      "/home/tf1/.local/lib/python3.8/site-packages/datasets/load.py:922: FutureWarning: The repository for esn_dataset contains custom code which must be executed to correctly load the dataset. You can inspect the repository content at esn_dataset.py\n",
      "You can avoid this message in future by passing the argument `trust_remote_code=True`.\n",
      "Passing `trust_remote_code=True` will be mandatory to load this dataset from the next major release of `datasets`.\n",
      "  warnings.warn(\n"
     ]
    },
    {
     "name": "stdout",
     "output_type": "stream",
     "text": [
      "ESNCovidConfig(name='esncovid', version=1.0.0, data_dir='data_obfuscated_time/', data_files=None, description='Time series from XXXX.', freq='1D', prediction_length=14, min_date_eval='2021-12-08', forecast_days=14, minanteriorite=1000, is_epidemio=True, is_best_param=True)\n",
      "data_obfuscated_time/\n"
     ]
    },
    {
     "data": {
      "application/vnd.jupyter.widget-view+json": {
       "model_id": "fba8441f34504248abc98598ae0183fd",
       "version_major": 2,
       "version_minor": 0
      },
      "text/plain": [
       "Generating validation split: 0 examples [00:00, ? examples/s]"
      ]
     },
     "metadata": {},
     "output_type": "display_data"
    },
    {
     "data": {
      "application/vnd.jupyter.widget-view+json": {
       "model_id": "817485c4968d47adbbd93f47d81734e7",
       "version_major": 2,
       "version_minor": 0
      },
      "text/plain": [
       "Generating test split: 0 examples [00:00, ? examples/s]"
      ]
     },
     "metadata": {},
     "output_type": "display_data"
    },
    {
     "name": "stdout",
     "output_type": "stream",
     "text": [
      "We are at epoch: 40\n",
      "[18.49662208557129, 6.389913558959961, 11.647063255310059, 10.123578071594238, 5.813021659851074, 11.797889709472656, 14.189797401428223, 20.903348922729492, 26.655963897705078, 26.655963897705078, 26.655963897705078]\n",
      "[20.508667, 7.568428, 13.653658, 18.038746, 11.355734, 7.226577, 16.114277, 15.964183, 5.8225265, -3.058147, 19.077297]\n",
      "2021-12-10\n"
     ]
    },
    {
     "name": "stderr",
     "output_type": "stream",
     "text": [
      "/home/tf1/.local/lib/python3.8/site-packages/datasets/load.py:922: FutureWarning: The repository for esn_dataset contains custom code which must be executed to correctly load the dataset. You can inspect the repository content at esn_dataset.py\n",
      "You can avoid this message in future by passing the argument `trust_remote_code=True`.\n",
      "Passing `trust_remote_code=True` will be mandatory to load this dataset from the next major release of `datasets`.\n",
      "  warnings.warn(\n"
     ]
    },
    {
     "name": "stdout",
     "output_type": "stream",
     "text": [
      "ESNCovidConfig(name='esncovid', version=1.0.0, data_dir='data_obfuscated_time/', data_files=None, description='Time series from XXXX.', freq='1D', prediction_length=14, min_date_eval='2021-12-10', forecast_days=14, minanteriorite=1000, is_epidemio=True, is_best_param=True)\n",
      "data_obfuscated_time/\n"
     ]
    },
    {
     "data": {
      "application/vnd.jupyter.widget-view+json": {
       "model_id": "629704688f3c4051874d44db5a09a7cb",
       "version_major": 2,
       "version_minor": 0
      },
      "text/plain": [
       "Generating validation split: 0 examples [00:00, ? examples/s]"
      ]
     },
     "metadata": {},
     "output_type": "display_data"
    },
    {
     "data": {
      "application/vnd.jupyter.widget-view+json": {
       "model_id": "27a0db1967fa4094acf597072192f155",
       "version_major": 2,
       "version_minor": 0
      },
      "text/plain": [
       "Generating test split: 0 examples [00:00, ? examples/s]"
      ]
     },
     "metadata": {},
     "output_type": "display_data"
    },
    {
     "name": "stdout",
     "output_type": "stream",
     "text": [
      "We are at epoch: 40\n",
      "[18.49662208557129, 6.389913558959961, 11.647063255310059, 10.123578071594238, 5.813021659851074, 11.797889709472656, 14.189797401428223, 20.903348922729492, 26.655963897705078, 26.655963897705078, 26.655963897705078, 26.655963897705078]\n",
      "[20.508667, 7.568428, 13.653658, 18.038746, 11.355734, 7.226577, 16.114277, 15.964183, 5.8225265, -3.058147, 19.077297, 17.28292]\n",
      "2021-12-12\n"
     ]
    },
    {
     "name": "stderr",
     "output_type": "stream",
     "text": [
      "/home/tf1/.local/lib/python3.8/site-packages/datasets/load.py:922: FutureWarning: The repository for esn_dataset contains custom code which must be executed to correctly load the dataset. You can inspect the repository content at esn_dataset.py\n",
      "You can avoid this message in future by passing the argument `trust_remote_code=True`.\n",
      "Passing `trust_remote_code=True` will be mandatory to load this dataset from the next major release of `datasets`.\n",
      "  warnings.warn(\n"
     ]
    },
    {
     "name": "stdout",
     "output_type": "stream",
     "text": [
      "ESNCovidConfig(name='esncovid', version=1.0.0, data_dir='data_obfuscated_time/', data_files=None, description='Time series from XXXX.', freq='1D', prediction_length=14, min_date_eval='2021-12-12', forecast_days=14, minanteriorite=1000, is_epidemio=True, is_best_param=True)\n",
      "data_obfuscated_time/\n"
     ]
    },
    {
     "data": {
      "application/vnd.jupyter.widget-view+json": {
       "model_id": "f06743eb8184423cba8a75cc2e227f3d",
       "version_major": 2,
       "version_minor": 0
      },
      "text/plain": [
       "Generating validation split: 0 examples [00:00, ? examples/s]"
      ]
     },
     "metadata": {},
     "output_type": "display_data"
    },
    {
     "data": {
      "application/vnd.jupyter.widget-view+json": {
       "model_id": "1aa76666be044d88ada015d81fe2825f",
       "version_major": 2,
       "version_minor": 0
      },
      "text/plain": [
       "Generating test split: 0 examples [00:00, ? examples/s]"
      ]
     },
     "metadata": {},
     "output_type": "display_data"
    },
    {
     "name": "stdout",
     "output_type": "stream",
     "text": [
      "We are at epoch: 51\n",
      "[18.49662208557129, 6.389913558959961, 11.647063255310059, 10.123578071594238, 5.813021659851074, 11.797889709472656, 14.189797401428223, 20.903348922729492, 26.655963897705078, 26.655963897705078, 26.655963897705078, 26.655963897705078, 26.655963897705078]\n",
      "[20.508667, 7.568428, 13.653658, 18.038746, 11.355734, 7.226577, 16.114277, 15.964183, 5.8225265, -3.058147, 19.077297, 17.28292, 7.452457]\n",
      "2021-12-14\n"
     ]
    },
    {
     "name": "stderr",
     "output_type": "stream",
     "text": [
      "/home/tf1/.local/lib/python3.8/site-packages/datasets/load.py:922: FutureWarning: The repository for esn_dataset contains custom code which must be executed to correctly load the dataset. You can inspect the repository content at esn_dataset.py\n",
      "You can avoid this message in future by passing the argument `trust_remote_code=True`.\n",
      "Passing `trust_remote_code=True` will be mandatory to load this dataset from the next major release of `datasets`.\n",
      "  warnings.warn(\n"
     ]
    },
    {
     "name": "stdout",
     "output_type": "stream",
     "text": [
      "ESNCovidConfig(name='esncovid', version=1.0.0, data_dir='data_obfuscated_time/', data_files=None, description='Time series from XXXX.', freq='1D', prediction_length=14, min_date_eval='2021-12-14', forecast_days=14, minanteriorite=1000, is_epidemio=True, is_best_param=True)\n",
      "data_obfuscated_time/\n"
     ]
    },
    {
     "data": {
      "application/vnd.jupyter.widget-view+json": {
       "model_id": "78256315b65f45b981c2c82d641a30e0",
       "version_major": 2,
       "version_minor": 0
      },
      "text/plain": [
       "Generating validation split: 0 examples [00:00, ? examples/s]"
      ]
     },
     "metadata": {},
     "output_type": "display_data"
    },
    {
     "data": {
      "application/vnd.jupyter.widget-view+json": {
       "model_id": "aa0c9fda2c9944de9022e0853ed54843",
       "version_major": 2,
       "version_minor": 0
      },
      "text/plain": [
       "Generating test split: 0 examples [00:00, ? examples/s]"
      ]
     },
     "metadata": {},
     "output_type": "display_data"
    },
    {
     "name": "stdout",
     "output_type": "stream",
     "text": [
      "We are at epoch: 35\n",
      "[18.49662208557129, 6.389913558959961, 11.647063255310059, 10.123578071594238, 5.813021659851074, 11.797889709472656, 14.189797401428223, 20.903348922729492, 26.655963897705078, 26.655963897705078, 26.655963897705078, 26.655963897705078, 26.655963897705078, 26.655963897705078]\n",
      "[20.508667, 7.568428, 13.653658, 18.038746, 11.355734, 7.226577, 16.114277, 15.964183, 5.8225265, -3.058147, 19.077297, 17.28292, 7.452457, -11.514086]\n",
      "2021-12-16\n"
     ]
    },
    {
     "name": "stderr",
     "output_type": "stream",
     "text": [
      "/home/tf1/.local/lib/python3.8/site-packages/datasets/load.py:922: FutureWarning: The repository for esn_dataset contains custom code which must be executed to correctly load the dataset. You can inspect the repository content at esn_dataset.py\n",
      "You can avoid this message in future by passing the argument `trust_remote_code=True`.\n",
      "Passing `trust_remote_code=True` will be mandatory to load this dataset from the next major release of `datasets`.\n",
      "  warnings.warn(\n"
     ]
    },
    {
     "name": "stdout",
     "output_type": "stream",
     "text": [
      "ESNCovidConfig(name='esncovid', version=1.0.0, data_dir='data_obfuscated_time/', data_files=None, description='Time series from XXXX.', freq='1D', prediction_length=14, min_date_eval='2021-12-16', forecast_days=14, minanteriorite=1000, is_epidemio=True, is_best_param=True)\n",
      "data_obfuscated_time/\n"
     ]
    },
    {
     "data": {
      "application/vnd.jupyter.widget-view+json": {
       "model_id": "42320d6a9f644fbca0c1522b3b6e8699",
       "version_major": 2,
       "version_minor": 0
      },
      "text/plain": [
       "Generating validation split: 0 examples [00:00, ? examples/s]"
      ]
     },
     "metadata": {},
     "output_type": "display_data"
    },
    {
     "data": {
      "application/vnd.jupyter.widget-view+json": {
       "model_id": "56fd5575d1ee4779bcf13640b8e4529f",
       "version_major": 2,
       "version_minor": 0
      },
      "text/plain": [
       "Generating test split: 0 examples [00:00, ? examples/s]"
      ]
     },
     "metadata": {},
     "output_type": "display_data"
    },
    {
     "name": "stdout",
     "output_type": "stream",
     "text": [
      "We are at epoch: 40\n",
      "[18.49662208557129, 6.389913558959961, 11.647063255310059, 10.123578071594238, 5.813021659851074, 11.797889709472656, 14.189797401428223, 20.903348922729492, 26.655963897705078, 26.655963897705078, 26.655963897705078, 26.655963897705078, 26.655963897705078, 26.655963897705078, 26.655963897705078]\n",
      "[20.508667, 7.568428, 13.653658, 18.038746, 11.355734, 7.226577, 16.114277, 15.964183, 5.8225265, -3.058147, 19.077297, 17.28292, 7.452457, -11.514086, 9.550333]\n"
     ]
    }
   ],
   "source": [
    "start_time = time.time()\n",
    "for date in dates:\n",
    "    print(date)\n",
    "    res = train_transformers(min_date_eval = date)\n",
    "    val_loss,epoch,pred,truth,hosp = res\n",
    "    diff_true.append(truth)\n",
    "    diff_pred.append(pred)\n",
    "    hosp_true.append(hosp)\n",
    "    print(diff_true)\n",
    "    print(diff_pred)\n",
    "\n",
    "end_time = time.time()\n",
    "elapsed_time = end_time - start_time\n",
    "\n",
    "results = {'Scenario': \"TRANSFORMER\",\n",
    "'Elapsed Time': [elapsed_time]\n",
    "}\n",
    "results_df = pd.DataFrame(results)\n",
    "results_df.to_csv(\"results/timing_TRANSFORMER.csv\")"
   ]
  },
  {
   "cell_type": "code",
   "execution_count": null,
   "id": "30ffe223-6ae9-4e05-966b-51d1a7345c52",
   "metadata": {},
   "outputs": [],
   "source": []
  }
 ],
 "metadata": {
  "kernelspec": {
   "display_name": "Python 3 (ipykernel)",
   "language": "python",
   "name": "python3"
  },
  "language_info": {
   "codemirror_mode": {
    "name": "ipython",
    "version": 3
   },
   "file_extension": ".py",
   "mimetype": "text/x-python",
   "name": "python",
   "nbconvert_exporter": "python",
   "pygments_lexer": "ipython3",
   "version": "3.8.10"
  }
 },
 "nbformat": 4,
 "nbformat_minor": 5
}
